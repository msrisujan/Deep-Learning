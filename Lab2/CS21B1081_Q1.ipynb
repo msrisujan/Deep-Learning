{
 "cells": [
  {
   "cell_type": "markdown",
   "metadata": {},
   "source": [
    "### Importing Libraries"
   ]
  },
  {
   "cell_type": "code",
   "execution_count": 26,
   "metadata": {},
   "outputs": [],
   "source": [
    "import numpy as np"
   ]
  },
  {
   "cell_type": "markdown",
   "metadata": {},
   "source": [
    "### Initial Weight Vectors"
   ]
  },
  {
   "cell_type": "code",
   "execution_count": 27,
   "metadata": {},
   "outputs": [],
   "source": [
    "W1 = np.array([[0.5, 1.5, 0.8], [0.8, 0.2, -1.6]])\n",
    "W2 = np.array([[0.9, -1.7, 1.6], [1.2, 2.1, -0.2]])"
   ]
  },
  {
   "cell_type": "markdown",
   "metadata": {},
   "source": [
    "### Input and Output"
   ]
  },
  {
   "cell_type": "code",
   "execution_count": 29,
   "metadata": {},
   "outputs": [],
   "source": [
    "X1 = np.array([1.0, 0.7, 1.2]) # input for layer 1\n",
    "t = np.array([1.0, 0.0]) # target output    "
   ]
  },
  {
   "cell_type": "markdown",
   "metadata": {},
   "source": [
    "### Activation Function"
   ]
  },
  {
   "cell_type": "code",
   "execution_count": 30,
   "metadata": {},
   "outputs": [],
   "source": [
    "def sigmoid(x):\n",
    "    return 1 / (1 + np.exp(-x))"
   ]
  },
  {
   "cell_type": "markdown",
   "metadata": {},
   "source": [
    "### Forward Propagation"
   ]
  },
  {
   "cell_type": "code",
   "execution_count": 31,
   "metadata": {},
   "outputs": [],
   "source": [
    "def feed_forward_pass(X, W):\n",
    "    return sigmoid(np.dot(W, X))"
   ]
  },
  {
   "cell_type": "markdown",
   "metadata": {},
   "source": [
    "### Backward Propagation"
   ]
  },
  {
   "cell_type": "code",
   "execution_count": 32,
   "metadata": {},
   "outputs": [],
   "source": [
    "def back_propagation(W, X, delta_vector, learning_rate):\n",
    "    n, m = W.shape\n",
    "    for j in range(n):\n",
    "        for i in range(m):\n",
    "            W[j, i] -= learning_rate * delta_vector[j] * X[i]\n",
    "    return W"
   ]
  },
  {
   "cell_type": "markdown",
   "metadata": {},
   "source": [
    "### Calculating Delta values for hidden layer"
   ]
  },
  {
   "cell_type": "code",
   "execution_count": 37,
   "metadata": {},
   "outputs": [],
   "source": [
    "def calculate_delta_vector(W, delta_vector_k1, output):\n",
    "    n, m = W.shape\n",
    "    delta_vector = np.zeros(n)\n",
    "    for j in range(n):\n",
    "        for i in range(len(delta_vector_k1)):\n",
    "            delta_vector[j] += delta_vector_k1[i] * W[i, j+1]\n",
    "        delta_vector[j] *= output[j] * (1 - output[j])\n",
    "    return delta_vector"
   ]
  },
  {
   "cell_type": "markdown",
   "metadata": {},
   "source": [
    "### Multi Layer Perceptron"
   ]
  },
  {
   "cell_type": "code",
   "execution_count": 38,
   "metadata": {},
   "outputs": [],
   "source": [
    "def multilayer_perceptron(X, W1, W2, t, learning_rate, epochs):\n",
    "    for epoch in range(epochs):\n",
    "        # feed forward\n",
    "        output1 = feed_forward_pass(X, W1)\n",
    "        X2 = np.array([1.0, *output1]) # input for layer 2\n",
    "        output2 = feed_forward_pass(X2, W2)\n",
    "\n",
    "        output = np.array([1 if x > 0.5 else 0 for x in output2])\n",
    "\n",
    "        if np.array_equal(output, t):\n",
    "            print(f\"Converged after {epoch+1} epochs\")\n",
    "            break\n",
    "\n",
    "        else:\n",
    "            # back propagation\n",
    "            delta2 = (output2 - t) * output2 * (1 - output2)\n",
    "            W2 = back_propagation(W2, X2, delta2, learning_rate)\n",
    "\n",
    "            delta1 = calculate_delta_vector(W2, delta2, output1)\n",
    "            W1 = back_propagation(W1, X, delta1, learning_rate)\n",
    "        \n",
    "        print(f\"Epoch {epoch+1}: {output}\")\n",
    "        print(f\"W1: {W1}\")\n",
    "        print(f\"W2: {W2}\")\n",
    "\n",
    "    return W1, W2\n",
    "\n"
   ]
  },
  {
   "cell_type": "code",
   "execution_count": 39,
   "metadata": {},
   "outputs": [
    {
     "name": "stdout",
     "output_type": "stream",
     "text": [
      "Converged after 1 epochs\n"
     ]
    }
   ],
   "source": [
    "W1, W2 = multilayer_perceptron(X1, W1, W2, t, 0.5, 1000)"
   ]
  },
  {
   "cell_type": "code",
   "execution_count": 36,
   "metadata": {},
   "outputs": [
    {
     "name": "stdout",
     "output_type": "stream",
     "text": [
      "Final W1: [[ 0.20679927  1.29475949  0.44815912]\n",
      " [ 1.29043107  0.54330175 -1.01148271]]\n",
      "Final W2: [[ 1.68827945 -0.98697397  1.89770305]\n",
      " [-0.20463444  0.86477494 -0.87138284]]\n"
     ]
    }
   ],
   "source": [
    "print(f\"Final W1: {W1}\")\n",
    "print(f\"Final W2: {W2}\")"
   ]
  }
 ],
 "metadata": {
  "kernelspec": {
   "display_name": "base",
   "language": "python",
   "name": "python3"
  },
  "language_info": {
   "codemirror_mode": {
    "name": "ipython",
    "version": 3
   },
   "file_extension": ".py",
   "mimetype": "text/x-python",
   "name": "python",
   "nbconvert_exporter": "python",
   "pygments_lexer": "ipython3",
   "version": "3.11.3"
  }
 },
 "nbformat": 4,
 "nbformat_minor": 2
}
