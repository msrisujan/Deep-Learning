{
 "cells": [
  {
   "cell_type": "code",
   "execution_count": 11,
   "metadata": {},
   "outputs": [],
   "source": [
    "#Name: M.Sri Sujan\n",
    "#Roll No: CS21B1081\n",
    "\n",
    "import numpy as np\n",
    "import pandas as pd"
   ]
  },
  {
   "cell_type": "code",
   "execution_count": 12,
   "metadata": {},
   "outputs": [],
   "source": [
    "class Perceptron:\n",
    "    def __init__(self, learning_rate = 0.0001, max_epochs = 10000):\n",
    "        self.learning_rate = learning_rate\n",
    "        self.max_epochs = max_epochs\n",
    "        self.weights = None\n",
    "        \n",
    "    def activation(self, x):\n",
    "        return 1 if x >= 0 else 0\n",
    "    \n",
    "    def predict(self, X):\n",
    "        X = np.insert(X, 0, 1, axis=1)\n",
    "        return np.array([self.activation(np.dot(self.weights, x)) for x in X])\n",
    "    \n",
    "    def fit(self, X, y):\n",
    "        # add a column of 1s to the input matrix for the bias\n",
    "        X = np.insert(X, 0, 1, axis=1)\n",
    "        # initialize weights to 0\n",
    "        self.weights = np.zeros(X.shape[1])\n",
    "        for k in range(self.max_epochs):\n",
    "            missclassified = 0\n",
    "            print(\"Iteration : \",k)\n",
    "            for i in range(X.shape[0]):\n",
    "                y_hat = self.activation(np.dot(self.weights, X[i]))\n",
    "                if(y_hat != y[i]):\n",
    "                    self.weights -= self.learning_rate * (y_hat - y[i]) * X[i]\n",
    "                    print(\"Updated weights : \",self.weights)\n",
    "                    missclassified += 1\n",
    "            if missclassified == 0:\n",
    "                break"
   ]
  },
  {
   "cell_type": "code",
   "execution_count": 13,
   "metadata": {},
   "outputs": [
    {
     "name": "stdout",
     "output_type": "stream",
     "text": [
      "     SepalLengthCm  SepalWidthCm  PetalLengthCm  PetalWidthCm         Species\n",
      "0              5.1           3.5            1.4           0.2     Iris-setosa\n",
      "1              4.9           3.0            1.4           0.2     Iris-setosa\n",
      "2              4.7           3.2            1.3           0.2     Iris-setosa\n",
      "3              4.6           3.1            1.5           0.2     Iris-setosa\n",
      "4              5.0           3.6            1.4           0.2     Iris-setosa\n",
      "..             ...           ...            ...           ...             ...\n",
      "145            6.7           3.0            5.2           2.3  Iris-virginica\n",
      "146            6.3           2.5            5.0           1.9  Iris-virginica\n",
      "147            6.5           3.0            5.2           2.0  Iris-virginica\n",
      "148            6.2           3.4            5.4           2.3  Iris-virginica\n",
      "149            5.9           3.0            5.1           1.8  Iris-virginica\n",
      "\n",
      "[150 rows x 5 columns]\n"
     ]
    }
   ],
   "source": [
    "df = pd.read_csv('iris.csv').drop('Id', axis=1)\n",
    "print(df)"
   ]
  },
  {
   "cell_type": "code",
   "execution_count": 14,
   "metadata": {},
   "outputs": [
    {
     "name": "stdout",
     "output_type": "stream",
     "text": [
      "    SepalLengthCm  SepalWidthCm  PetalLengthCm  PetalWidthCm          Species\n",
      "0             5.1           3.5            1.4           0.2      Iris-setosa\n",
      "1             4.9           3.0            1.4           0.2      Iris-setosa\n",
      "2             4.7           3.2            1.3           0.2      Iris-setosa\n",
      "3             4.6           3.1            1.5           0.2      Iris-setosa\n",
      "4             5.0           3.6            1.4           0.2      Iris-setosa\n",
      "..            ...           ...            ...           ...              ...\n",
      "95            5.7           3.0            4.2           1.2  Iris-versicolor\n",
      "96            5.7           2.9            4.2           1.3  Iris-versicolor\n",
      "97            6.2           2.9            4.3           1.3  Iris-versicolor\n",
      "98            5.1           2.5            3.0           1.1  Iris-versicolor\n",
      "99            5.7           2.8            4.1           1.3  Iris-versicolor\n",
      "\n",
      "[100 rows x 5 columns]\n"
     ]
    }
   ],
   "source": [
    "#drop iris-virginica\n",
    "df = df[df.Species != 'Iris-virginica']\n",
    "print(df)"
   ]
  },
  {
   "cell_type": "code",
   "execution_count": 15,
   "metadata": {},
   "outputs": [
    {
     "name": "stdout",
     "output_type": "stream",
     "text": [
      "    SepalLengthCm  SepalWidthCm  PetalLengthCm  PetalWidthCm          Species\n",
      "0             5.1           3.5            1.4           0.2      Iris-setosa\n",
      "1             4.9           3.0            1.4           0.2      Iris-setosa\n",
      "2             4.7           3.2            1.3           0.2      Iris-setosa\n",
      "3             4.6           3.1            1.5           0.2      Iris-setosa\n",
      "4             5.0           3.6            1.4           0.2      Iris-setosa\n",
      "..            ...           ...            ...           ...              ...\n",
      "75            6.0           3.4            4.5           1.6  Iris-versicolor\n",
      "76            6.7           3.1            4.7           1.5  Iris-versicolor\n",
      "77            6.3           2.3            4.4           1.3  Iris-versicolor\n",
      "78            5.6           3.0            4.1           1.3  Iris-versicolor\n",
      "79            5.5           2.5            4.0           1.3  Iris-versicolor\n",
      "\n",
      "[80 rows x 5 columns]\n"
     ]
    }
   ],
   "source": [
    "classes = df['Species'].unique()\n",
    "train = pd.DataFrame()\n",
    "test = pd.DataFrame()\n",
    "\n",
    "for c in classes:\n",
    "    train = pd.concat([train, df[df['Species'] == c].iloc[:40]],ignore_index=True)\n",
    "    test = pd.concat([test, df[df['Species'] == c].iloc[40:]],ignore_index=True)\n",
    "\n",
    "print(train)"
   ]
  },
  {
   "cell_type": "code",
   "execution_count": 16,
   "metadata": {},
   "outputs": [],
   "source": [
    "X_train = np.array(train.drop('Species', axis=1))\n",
    "y_train = np.array([1 if species == 'Iris-setosa' else 0 for species in train['Species']])\n",
    "X_test = np.array(test.drop('Species', axis=1))\n",
    "y_test = np.array([1 if species == 'Iris-setosa' else 0 for species in test['Species']])"
   ]
  },
  {
   "cell_type": "code",
   "execution_count": 17,
   "metadata": {},
   "outputs": [
    {
     "name": "stdout",
     "output_type": "stream",
     "text": [
      "Iteration :  0\n",
      "Updated weights :  [-0.0001  -0.0007  -0.00032 -0.00047 -0.00014]\n",
      "Iteration :  1\n",
      "Updated weights :  [ 0.0e+00 -1.9e-04  3.0e-05 -3.3e-04 -1.2e-04]\n",
      "Updated weights :  [ 1.0e-04  3.0e-04  3.3e-04 -1.9e-04 -1.0e-04]\n",
      "Updated weights :  [ 0.0e+00 -4.0e-04  1.0e-05 -6.6e-04 -2.4e-04]\n",
      "Iteration :  2\n",
      "Updated weights :  [ 0.0001   0.00011  0.00036 -0.00052 -0.00022]\n",
      "Iteration :  3\n"
     ]
    }
   ],
   "source": [
    "perceptron = Perceptron()\n",
    "perceptron.fit(X_train, y_train)"
   ]
  },
  {
   "cell_type": "code",
   "execution_count": 18,
   "metadata": {},
   "outputs": [],
   "source": [
    "y_pred = perceptron.predict(X_test)"
   ]
  },
  {
   "cell_type": "code",
   "execution_count": 19,
   "metadata": {},
   "outputs": [],
   "source": [
    "def accuracy(y_pred,y_test):\n",
    "    return np.sum(y_pred == y_test)/len(y_test)"
   ]
  },
  {
   "cell_type": "code",
   "execution_count": 20,
   "metadata": {},
   "outputs": [
    {
     "name": "stdout",
     "output_type": "stream",
     "text": [
      "Accuracy =  100.0 %\n"
     ]
    }
   ],
   "source": [
    "print(\"Accuracy = \", accuracy(y_pred, y_test)*100, \"%\")"
   ]
  }
 ],
 "metadata": {
  "kernelspec": {
   "display_name": "base",
   "language": "python",
   "name": "python3"
  },
  "language_info": {
   "codemirror_mode": {
    "name": "ipython",
    "version": 3
   },
   "file_extension": ".py",
   "mimetype": "text/x-python",
   "name": "python",
   "nbconvert_exporter": "python",
   "pygments_lexer": "ipython3",
   "version": "3.1.0"
  }
 },
 "nbformat": 4,
 "nbformat_minor": 2
}
